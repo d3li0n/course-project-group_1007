{
 "cells": [
  {
   "cell_type": "markdown",
   "id": "useful-queensland",
   "metadata": {},
   "source": [
    "# ---- Dima's Milestone 3 Task 1[Revision]"
   ]
  },
  {
   "cell_type": "code",
   "execution_count": 1,
   "id": "coated-digest",
   "metadata": {},
   "outputs": [],
   "source": [
    "import os\n",
    "import pandas as pd\n",
    "import numpy as np\n",
    "import matplotlib.pyplot as plt\n",
    "import seaborn as sns\n",
    "from scripts import project_functions\n",
    "\n",
    "df = project_functions.merge_data()\n",
    "project_functions.process_data(df) # From Milestone 3 Task 3"
   ]
  },
  {
   "cell_type": "markdown",
   "id": "boxed-river",
   "metadata": {},
   "source": [
    "# Task 4: Conduct an Exploratory Data Analysis (EDA) on your dataset (30%)"
   ]
  },
  {
   "cell_type": "markdown",
   "id": "bronze-capitol",
   "metadata": {},
   "source": [
    "## Basic Data Information\n",
    "\n",
    "We have 901315 rows of data and 17 different columns. No missing numerical values\n",
    "\n",
    "#### Information about columns"
   ]
  },
  {
   "cell_type": "code",
   "execution_count": 2,
   "id": "potential-surname",
   "metadata": {},
   "outputs": [
    {
     "name": "stdout",
     "output_type": "stream",
     "text": [
      "<class 'pandas.core.frame.DataFrame'>\n",
      "Int64Index: 901315 entries, 450657 to 173868\n",
      "Data columns (total 19 columns):\n",
      " #   Column                                   Non-Null Count   Dtype         \n",
      "---  ------                                   --------------   -----         \n",
      " 0   Longitude                                901280 non-null  Float64       \n",
      " 1   Latitude                                 901280 non-null  Float64       \n",
      " 2   Police_Force                             901315 non-null  Int64         \n",
      " 3   Accident_Severity                        901315 non-null  Int64         \n",
      " 4   Number_of_Vehicles                       901315 non-null  Int64         \n",
      " 5   Number_of_Casualties                     901315 non-null  Int64         \n",
      " 6   Date                                     901315 non-null  datetime64[ns]\n",
      " 7   Day_of_Week                              901315 non-null  string        \n",
      " 8   Time                                     901255 non-null  string        \n",
      " 9   Road_Type                                901315 non-null  string        \n",
      " 10  Speed_limit                              901315 non-null  Int64         \n",
      " 11  Junction_Control                         901315 non-null  string        \n",
      " 12  Pedestrian_Crossing-Human_Control        901308 non-null  string        \n",
      " 13  Pedestrian_Crossing-Physical_Facilities  901296 non-null  string        \n",
      " 14  Weather_Type                             901263 non-null  string        \n",
      " 15  Road_Surface_Conditions                  900111 non-null  string        \n",
      " 16  Carriageway_Hazards                      901304 non-null  string        \n",
      " 17  Police_Presense                          899467 non-null  boolean       \n",
      " 18  Year                                     901315 non-null  Int64         \n",
      "dtypes: Float64(2), Int64(6), boolean(1), datetime64[ns](1), string(9)\n",
      "memory usage: 139.2 MB\n"
     ]
    },
    {
     "data": {
      "text/html": [
       "<div>\n",
       "<style scoped>\n",
       "    .dataframe tbody tr th:only-of-type {\n",
       "        vertical-align: middle;\n",
       "    }\n",
       "\n",
       "    .dataframe tbody tr th {\n",
       "        vertical-align: top;\n",
       "    }\n",
       "\n",
       "    .dataframe thead th {\n",
       "        text-align: right;\n",
       "    }\n",
       "</style>\n",
       "<table border=\"1\" class=\"dataframe\">\n",
       "  <thead>\n",
       "    <tr style=\"text-align: right;\">\n",
       "      <th></th>\n",
       "      <th>Longitude</th>\n",
       "      <th>Latitude</th>\n",
       "      <th>Police_Force</th>\n",
       "      <th>Accident_Severity</th>\n",
       "      <th>Number_of_Vehicles</th>\n",
       "      <th>Number_of_Casualties</th>\n",
       "      <th>Date</th>\n",
       "      <th>Day_of_Week</th>\n",
       "      <th>Time</th>\n",
       "      <th>Road_Type</th>\n",
       "      <th>Speed_limit</th>\n",
       "      <th>Junction_Control</th>\n",
       "      <th>Pedestrian_Crossing-Human_Control</th>\n",
       "      <th>Pedestrian_Crossing-Physical_Facilities</th>\n",
       "      <th>Weather_Type</th>\n",
       "      <th>Road_Surface_Conditions</th>\n",
       "      <th>Carriageway_Hazards</th>\n",
       "      <th>Police_Presense</th>\n",
       "      <th>Year</th>\n",
       "    </tr>\n",
       "  </thead>\n",
       "  <tbody>\n",
       "    <tr>\n",
       "      <th>450657</th>\n",
       "      <td>-2.145169</td>\n",
       "      <td>57.173082</td>\n",
       "      <td>92</td>\n",
       "      <td>3</td>\n",
       "      <td>1</td>\n",
       "      <td>1</td>\n",
       "      <td>2005-11-21</td>\n",
       "      <td>Tuesday</td>\n",
       "      <td>21:45</td>\n",
       "      <td>Roundabout</td>\n",
       "      <td>40</td>\n",
       "      <td>Giveway or uncontrolled</td>\n",
       "      <td>None within 50 metres</td>\n",
       "      <td>No physical crossing within 50 meters</td>\n",
       "      <td>Other</td>\n",
       "      <td>Wet/Damp</td>\n",
       "      <td>None</td>\n",
       "      <td>True</td>\n",
       "      <td>2005</td>\n",
       "    </tr>\n",
       "    <tr>\n",
       "      <th>786063</th>\n",
       "      <td>-1.211784</td>\n",
       "      <td>54.679338</td>\n",
       "      <td>17</td>\n",
       "      <td>3</td>\n",
       "      <td>2</td>\n",
       "      <td>1</td>\n",
       "      <td>2005-04-19</td>\n",
       "      <td>Wednesday</td>\n",
       "      <td>01:35</td>\n",
       "      <td>Dual carriageway</td>\n",
       "      <td>30</td>\n",
       "      <td>Giveway or uncontrolled</td>\n",
       "      <td>None within 50 metres</td>\n",
       "      <td>No physical crossing within 50 meters</td>\n",
       "      <td>Fine without high winds</td>\n",
       "      <td>Dry</td>\n",
       "      <td>None</td>\n",
       "      <td>True</td>\n",
       "      <td>2005</td>\n",
       "    </tr>\n",
       "    <tr>\n",
       "      <th>786062</th>\n",
       "      <td>-1.215392</td>\n",
       "      <td>54.685293</td>\n",
       "      <td>17</td>\n",
       "      <td>3</td>\n",
       "      <td>2</td>\n",
       "      <td>3</td>\n",
       "      <td>2005-04-15</td>\n",
       "      <td>Saturday</td>\n",
       "      <td>18:50</td>\n",
       "      <td>Single carriageway</td>\n",
       "      <td>30</td>\n",
       "      <td>Giveway or uncontrolled</td>\n",
       "      <td>None within 50 metres</td>\n",
       "      <td>No physical crossing within 50 meters</td>\n",
       "      <td>Raining without high winds</td>\n",
       "      <td>Wet/Damp</td>\n",
       "      <td>None</td>\n",
       "      <td>True</td>\n",
       "      <td>2005</td>\n",
       "    </tr>\n",
       "    <tr>\n",
       "      <th>786061</th>\n",
       "      <td>-1.235026</td>\n",
       "      <td>54.672297</td>\n",
       "      <td>17</td>\n",
       "      <td>3</td>\n",
       "      <td>2</td>\n",
       "      <td>1</td>\n",
       "      <td>2005-02-06</td>\n",
       "      <td>Monday</td>\n",
       "      <td>12:45</td>\n",
       "      <td>Single carriageway</td>\n",
       "      <td>30</td>\n",
       "      <td>Giveway or uncontrolled</td>\n",
       "      <td>None within 50 metres</td>\n",
       "      <td>No physical crossing within 50 meters</td>\n",
       "      <td>Fine without high winds</td>\n",
       "      <td>Dry</td>\n",
       "      <td>None</td>\n",
       "      <td>False</td>\n",
       "      <td>2005</td>\n",
       "    </tr>\n",
       "    <tr>\n",
       "      <th>786060</th>\n",
       "      <td>-1.22894</td>\n",
       "      <td>54.698861</td>\n",
       "      <td>17</td>\n",
       "      <td>3</td>\n",
       "      <td>2</td>\n",
       "      <td>1</td>\n",
       "      <td>2005-04-08</td>\n",
       "      <td>Saturday</td>\n",
       "      <td>13:15</td>\n",
       "      <td>Single carriageway</td>\n",
       "      <td>30</td>\n",
       "      <td>Giveway or uncontrolled</td>\n",
       "      <td>None within 50 metres</td>\n",
       "      <td>No physical crossing within 50 meters</td>\n",
       "      <td>Fine without high winds</td>\n",
       "      <td>Dry</td>\n",
       "      <td>None</td>\n",
       "      <td>True</td>\n",
       "      <td>2005</td>\n",
       "    </tr>\n",
       "  </tbody>\n",
       "</table>\n",
       "</div>"
      ],
      "text/plain": [
       "        Longitude   Latitude  Police_Force  Accident_Severity  \\\n",
       "450657  -2.145169  57.173082            92                  3   \n",
       "786063  -1.211784  54.679338            17                  3   \n",
       "786062  -1.215392  54.685293            17                  3   \n",
       "786061  -1.235026  54.672297            17                  3   \n",
       "786060   -1.22894  54.698861            17                  3   \n",
       "\n",
       "        Number_of_Vehicles  Number_of_Casualties       Date Day_of_Week  \\\n",
       "450657                   1                     1 2005-11-21     Tuesday   \n",
       "786063                   2                     1 2005-04-19   Wednesday   \n",
       "786062                   2                     3 2005-04-15    Saturday   \n",
       "786061                   2                     1 2005-02-06      Monday   \n",
       "786060                   2                     1 2005-04-08    Saturday   \n",
       "\n",
       "         Time           Road_Type  Speed_limit         Junction_Control  \\\n",
       "450657  21:45          Roundabout           40  Giveway or uncontrolled   \n",
       "786063  01:35    Dual carriageway           30  Giveway or uncontrolled   \n",
       "786062  18:50  Single carriageway           30  Giveway or uncontrolled   \n",
       "786061  12:45  Single carriageway           30  Giveway or uncontrolled   \n",
       "786060  13:15  Single carriageway           30  Giveway or uncontrolled   \n",
       "\n",
       "       Pedestrian_Crossing-Human_Control  \\\n",
       "450657             None within 50 metres   \n",
       "786063             None within 50 metres   \n",
       "786062             None within 50 metres   \n",
       "786061             None within 50 metres   \n",
       "786060             None within 50 metres   \n",
       "\n",
       "       Pedestrian_Crossing-Physical_Facilities                Weather_Type  \\\n",
       "450657   No physical crossing within 50 meters                       Other   \n",
       "786063   No physical crossing within 50 meters     Fine without high winds   \n",
       "786062   No physical crossing within 50 meters  Raining without high winds   \n",
       "786061   No physical crossing within 50 meters     Fine without high winds   \n",
       "786060   No physical crossing within 50 meters     Fine without high winds   \n",
       "\n",
       "       Road_Surface_Conditions Carriageway_Hazards  Police_Presense  Year  \n",
       "450657                Wet/Damp                None             True  2005  \n",
       "786063                     Dry                None             True  2005  \n",
       "786062                Wet/Damp                None             True  2005  \n",
       "786061                     Dry                None            False  2005  \n",
       "786060                     Dry                None             True  2005  "
      ]
     },
     "execution_count": 2,
     "metadata": {},
     "output_type": "execute_result"
    }
   ],
   "source": [
    "# Let's explore the general information about the dataset and see what we have\n",
    "df.info()\n",
    "df.head()"
   ]
  },
  {
   "cell_type": "markdown",
   "id": "stock-booking",
   "metadata": {},
   "source": [
    "#### Information about duplicate entries\n",
    "Seems like result shows 23201 duplicated entries, comparing that to the data dataset, we notice that out of 901315 rows, we have about 2% duplicates, I would say that's a good sign, as we have enough unique values to answer our questions."
   ]
  },
  {
   "cell_type": "code",
   "execution_count": 4,
   "id": "opposite-zealand",
   "metadata": {},
   "outputs": [
    {
     "name": "stdout",
     "output_type": "stream",
     "text": [
      "No. of duplicated entries:  23143\n",
      "        Longitude   Latitude  Police_Force  Accident_Severity  \\\n",
      "287775  -4.820336   55.93954            97                  3   \n",
      "287737  -4.820336   55.93954            97                  3   \n",
      "41899   -3.594385  54.533175             3                  3   \n",
      "18760   -3.594385  54.533175             3                  3   \n",
      "42133   -3.593641  54.529949             3                  3   \n",
      "\n",
      "        Number_of_Vehicles  Number_of_Casualties       Date Day_of_Week  \\\n",
      "287775                   2                     1 2011-09-16    Saturday   \n",
      "287737                   2                     1 2011-09-16    Saturday   \n",
      "41899                    2                     1 2012-01-13    Saturday   \n",
      "18760                    2                     1 2012-01-13    Saturday   \n",
      "42133                    2                     1 2012-06-26   Wednesday   \n",
      "\n",
      "         Time           Road_Type  Speed_limit         Junction_Control  \\\n",
      "287775  17:20  Single carriageway           30  Giveway or uncontrolled   \n",
      "287737  17:20  Single carriageway           30  Giveway or uncontrolled   \n",
      "41899   11:50  Single carriageway           30  Giveway or uncontrolled   \n",
      "18760   11:50  Single carriageway           30  Giveway or uncontrolled   \n",
      "42133   18:40  Single carriageway           30  Giveway or uncontrolled   \n",
      "\n",
      "       Pedestrian_Crossing-Human_Control  \\\n",
      "287775             None within 50 metres   \n",
      "287737             None within 50 metres   \n",
      "41899              None within 50 metres   \n",
      "18760              None within 50 metres   \n",
      "42133              None within 50 metres   \n",
      "\n",
      "       Pedestrian_Crossing-Physical_Facilities                Weather_Type  \\\n",
      "287775   No physical crossing within 50 meters     Fine without high winds   \n",
      "287737   No physical crossing within 50 meters     Fine without high winds   \n",
      "41899    No physical crossing within 50 meters     Fine without high winds   \n",
      "18760    No physical crossing within 50 meters     Fine without high winds   \n",
      "42133    No physical crossing within 50 meters  Raining without high winds   \n",
      "\n",
      "       Road_Surface_Conditions Carriageway_Hazards  Police_Presense  Year  \n",
      "287775                     Dry                None            False  2011  \n",
      "287737                     Dry                None            False  2011  \n",
      "41899                 Wet/Damp                None             True  2012  \n",
      "18760                 Wet/Damp                None             True  2012  \n",
      "42133                 Wet/Damp                None             True  2012  \n"
     ]
    }
   ],
   "source": [
    "# generate count statistics of duplicate entries\n",
    "if len(df[df.duplicated()]) > 0:\n",
    "    print(\"No. of duplicated entries: \", len(df[df.duplicated()]))\n",
    "    print(df[df.duplicated(keep=False)].sort_values(by=list(df.columns)).head())\n",
    "else:\n",
    "    print(\"No duplicated entries found\")"
   ]
  },
  {
   "cell_type": "markdown",
   "id": "greatest-george",
   "metadata": {},
   "source": [
    "#### Observations from Statistical point\n",
    "Interesting data to notice is police force presence, minimum is 1 unit, and maximum\n",
    "is 98, seems a lit bit odd, since mean is roughly 27. Does it mean that this number is outlier or there was a major accident involved?\n",
    "However, by checking the max number of vehicles involed in incident, it's possible \n",
    "to have 98 police force there."
   ]
  },
  {
   "cell_type": "code",
   "execution_count": 5,
   "id": "published-brook",
   "metadata": {},
   "outputs": [
    {
     "data": {
      "text/html": [
       "<div>\n",
       "<style scoped>\n",
       "    .dataframe tbody tr th:only-of-type {\n",
       "        vertical-align: middle;\n",
       "    }\n",
       "\n",
       "    .dataframe tbody tr th {\n",
       "        vertical-align: top;\n",
       "    }\n",
       "\n",
       "    .dataframe thead th {\n",
       "        text-align: right;\n",
       "    }\n",
       "</style>\n",
       "<table border=\"1\" class=\"dataframe\">\n",
       "  <thead>\n",
       "    <tr style=\"text-align: right;\">\n",
       "      <th></th>\n",
       "      <th>Longitude</th>\n",
       "      <th>Latitude</th>\n",
       "      <th>Police_Force</th>\n",
       "      <th>Accident_Severity</th>\n",
       "      <th>Number_of_Vehicles</th>\n",
       "      <th>Number_of_Casualties</th>\n",
       "      <th>Speed_limit</th>\n",
       "      <th>Year</th>\n",
       "    </tr>\n",
       "  </thead>\n",
       "  <tbody>\n",
       "    <tr>\n",
       "      <th>count</th>\n",
       "      <td>901280.000000</td>\n",
       "      <td>901280.000000</td>\n",
       "      <td>901315.000000</td>\n",
       "      <td>901315.000000</td>\n",
       "      <td>901315.000000</td>\n",
       "      <td>901315.000000</td>\n",
       "      <td>901315.000000</td>\n",
       "      <td>901315.000000</td>\n",
       "    </tr>\n",
       "    <tr>\n",
       "      <th>mean</th>\n",
       "      <td>-1.361466</td>\n",
       "      <td>52.546626</td>\n",
       "      <td>27.392350</td>\n",
       "      <td>2.863108</td>\n",
       "      <td>1.877528</td>\n",
       "      <td>1.331144</td>\n",
       "      <td>35.428075</td>\n",
       "      <td>2009.432804</td>\n",
       "    </tr>\n",
       "    <tr>\n",
       "      <th>std</th>\n",
       "      <td>1.342412</td>\n",
       "      <td>1.383365</td>\n",
       "      <td>24.806379</td>\n",
       "      <td>0.365861</td>\n",
       "      <td>0.602611</td>\n",
       "      <td>0.771135</td>\n",
       "      <td>11.308622</td>\n",
       "      <td>3.011951</td>\n",
       "    </tr>\n",
       "    <tr>\n",
       "      <th>min</th>\n",
       "      <td>-7.498973</td>\n",
       "      <td>49.914488</td>\n",
       "      <td>1.000000</td>\n",
       "      <td>1.000000</td>\n",
       "      <td>1.000000</td>\n",
       "      <td>1.000000</td>\n",
       "      <td>10.000000</td>\n",
       "      <td>2005.000000</td>\n",
       "    </tr>\n",
       "    <tr>\n",
       "      <th>25%</th>\n",
       "      <td>-2.245041</td>\n",
       "      <td>51.491166</td>\n",
       "      <td>5.000000</td>\n",
       "      <td>3.000000</td>\n",
       "      <td>2.000000</td>\n",
       "      <td>1.000000</td>\n",
       "      <td>30.000000</td>\n",
       "      <td>2006.000000</td>\n",
       "    </tr>\n",
       "    <tr>\n",
       "      <th>50%</th>\n",
       "      <td>-1.341753</td>\n",
       "      <td>52.269987</td>\n",
       "      <td>21.000000</td>\n",
       "      <td>3.000000</td>\n",
       "      <td>2.000000</td>\n",
       "      <td>1.000000</td>\n",
       "      <td>30.000000</td>\n",
       "      <td>2010.000000</td>\n",
       "    </tr>\n",
       "    <tr>\n",
       "      <th>75%</th>\n",
       "      <td>-0.191097</td>\n",
       "      <td>53.459997</td>\n",
       "      <td>44.000000</td>\n",
       "      <td>3.000000</td>\n",
       "      <td>2.000000</td>\n",
       "      <td>1.000000</td>\n",
       "      <td>30.000000</td>\n",
       "      <td>2012.000000</td>\n",
       "    </tr>\n",
       "    <tr>\n",
       "      <th>max</th>\n",
       "      <td>1.759398</td>\n",
       "      <td>60.662043</td>\n",
       "      <td>98.000000</td>\n",
       "      <td>3.000000</td>\n",
       "      <td>28.000000</td>\n",
       "      <td>87.000000</td>\n",
       "      <td>70.000000</td>\n",
       "      <td>2014.000000</td>\n",
       "    </tr>\n",
       "  </tbody>\n",
       "</table>\n",
       "</div>"
      ],
      "text/plain": [
       "           Longitude       Latitude   Police_Force  Accident_Severity  \\\n",
       "count  901280.000000  901280.000000  901315.000000      901315.000000   \n",
       "mean       -1.361466      52.546626      27.392350           2.863108   \n",
       "std         1.342412       1.383365      24.806379           0.365861   \n",
       "min        -7.498973      49.914488       1.000000           1.000000   \n",
       "25%        -2.245041      51.491166       5.000000           3.000000   \n",
       "50%        -1.341753      52.269987      21.000000           3.000000   \n",
       "75%        -0.191097      53.459997      44.000000           3.000000   \n",
       "max         1.759398      60.662043      98.000000           3.000000   \n",
       "\n",
       "       Number_of_Vehicles  Number_of_Casualties    Speed_limit           Year  \n",
       "count       901315.000000         901315.000000  901315.000000  901315.000000  \n",
       "mean             1.877528              1.331144      35.428075    2009.432804  \n",
       "std              0.602611              0.771135      11.308622       3.011951  \n",
       "min              1.000000              1.000000      10.000000    2005.000000  \n",
       "25%              2.000000              1.000000      30.000000    2006.000000  \n",
       "50%              2.000000              1.000000      30.000000    2010.000000  \n",
       "75%              2.000000              1.000000      30.000000    2012.000000  \n",
       "max             28.000000             87.000000      70.000000    2014.000000  "
      ]
     },
     "execution_count": 5,
     "metadata": {},
     "output_type": "execute_result"
    }
   ],
   "source": [
    "df.describe()"
   ]
  },
  {
   "cell_type": "markdown",
   "id": "nominated-regulation",
   "metadata": {},
   "source": [
    "#### Number of unique entries for each column"
   ]
  },
  {
   "cell_type": "code",
   "execution_count": 6,
   "id": "proof-concern",
   "metadata": {},
   "outputs": [
    {
     "data": {
      "text/plain": [
       "Longitude                                  610532\n",
       "Latitude                                   581913\n",
       "Police_Force                                   51\n",
       "Accident_Severity                               3\n",
       "Number_of_Vehicles                             15\n",
       "Number_of_Casualties                           34\n",
       "Date                                         3286\n",
       "Day_of_Week                                     7\n",
       "Time                                         1439\n",
       "Road_Type                                       6\n",
       "Speed_limit                                     8\n",
       "Junction_Control                                4\n",
       "Pedestrian_Crossing-Human_Control               3\n",
       "Pedestrian_Crossing-Physical_Facilities         6\n",
       "Weather_Type                                    9\n",
       "Road_Surface_Conditions                         5\n",
       "Carriageway_Hazards                             6\n",
       "Police_Presense                                 2\n",
       "Year                                            9\n",
       "dtype: int64"
      ]
     },
     "execution_count": 6,
     "metadata": {},
     "output_type": "execute_result"
    }
   ],
   "source": [
    "# Return Series with number of distinct observations.\n",
    "df.nunique(axis = 0)"
   ]
  },
  {
   "cell_type": "markdown",
   "id": "meaning-hopkins",
   "metadata": {},
   "source": [
    "#### Statistical comparision between years\n",
    "Let's group all information by years, and see what is the mean value for each column as we have information for 9 years.\n"
   ]
  },
  {
   "cell_type": "code",
   "execution_count": 7,
   "id": "anticipated-ghana",
   "metadata": {},
   "outputs": [
    {
     "data": {
      "text/html": [
       "<div>\n",
       "<style scoped>\n",
       "    .dataframe tbody tr th:only-of-type {\n",
       "        vertical-align: middle;\n",
       "    }\n",
       "\n",
       "    .dataframe tbody tr th {\n",
       "        vertical-align: top;\n",
       "    }\n",
       "\n",
       "    .dataframe thead th {\n",
       "        text-align: right;\n",
       "    }\n",
       "</style>\n",
       "<table border=\"1\" class=\"dataframe\">\n",
       "  <thead>\n",
       "    <tr style=\"text-align: right;\">\n",
       "      <th></th>\n",
       "      <th>Longitude</th>\n",
       "      <th>Latitude</th>\n",
       "      <th>Police_Force</th>\n",
       "      <th>Accident_Severity</th>\n",
       "      <th>Number_of_Vehicles</th>\n",
       "      <th>Number_of_Casualties</th>\n",
       "      <th>Speed_limit</th>\n",
       "      <th>Police_Presense</th>\n",
       "    </tr>\n",
       "    <tr>\n",
       "      <th>Year</th>\n",
       "      <th></th>\n",
       "      <th></th>\n",
       "      <th></th>\n",
       "      <th></th>\n",
       "      <th></th>\n",
       "      <th></th>\n",
       "      <th></th>\n",
       "      <th></th>\n",
       "    </tr>\n",
       "  </thead>\n",
       "  <tbody>\n",
       "    <tr>\n",
       "      <th>2005</th>\n",
       "      <td>-1.426624</td>\n",
       "      <td>52.583475</td>\n",
       "      <td>28.142579</td>\n",
       "      <td>2.873107</td>\n",
       "      <td>1.888904</td>\n",
       "      <td>1.342221</td>\n",
       "      <td>36.044342</td>\n",
       "      <td>0.785886</td>\n",
       "    </tr>\n",
       "    <tr>\n",
       "      <th>2006</th>\n",
       "      <td>-1.423471</td>\n",
       "      <td>52.587279</td>\n",
       "      <td>28.498947</td>\n",
       "      <td>2.865824</td>\n",
       "      <td>1.88932</td>\n",
       "      <td>1.342993</td>\n",
       "      <td>36.01838</td>\n",
       "      <td>0.789686</td>\n",
       "    </tr>\n",
       "    <tr>\n",
       "      <th>2007</th>\n",
       "      <td>-1.432268</td>\n",
       "      <td>52.573971</td>\n",
       "      <td>28.651813</td>\n",
       "      <td>2.861707</td>\n",
       "      <td>1.88618</td>\n",
       "      <td>1.342186</td>\n",
       "      <td>36.009038</td>\n",
       "      <td>0.791621</td>\n",
       "    </tr>\n",
       "    <tr>\n",
       "      <th>2009</th>\n",
       "      <td>-1.387261</td>\n",
       "      <td>52.577015</td>\n",
       "      <td>28.016464</td>\n",
       "      <td>2.865105</td>\n",
       "      <td>1.879365</td>\n",
       "      <td>1.338777</td>\n",
       "      <td>35.435757</td>\n",
       "      <td>0.789634</td>\n",
       "    </tr>\n",
       "    <tr>\n",
       "      <th>2010</th>\n",
       "      <td>-1.348336</td>\n",
       "      <td>52.527694</td>\n",
       "      <td>27.64421</td>\n",
       "      <td>2.869607</td>\n",
       "      <td>1.872087</td>\n",
       "      <td>1.337255</td>\n",
       "      <td>35.322815</td>\n",
       "      <td>0.790919</td>\n",
       "    </tr>\n",
       "    <tr>\n",
       "      <th>2011</th>\n",
       "      <td>-1.317322</td>\n",
       "      <td>52.498867</td>\n",
       "      <td>27.761316</td>\n",
       "      <td>2.862094</td>\n",
       "      <td>1.869595</td>\n",
       "      <td>1.326292</td>\n",
       "      <td>35.174699</td>\n",
       "      <td>0.797431</td>\n",
       "    </tr>\n",
       "    <tr>\n",
       "      <th>2012</th>\n",
       "      <td>-1.34582</td>\n",
       "      <td>52.607394</td>\n",
       "      <td>23.091271</td>\n",
       "      <td>2.84935</td>\n",
       "      <td>1.86648</td>\n",
       "      <td>1.33126</td>\n",
       "      <td>34.701192</td>\n",
       "      <td>0.811717</td>\n",
       "    </tr>\n",
       "    <tr>\n",
       "      <th>2013</th>\n",
       "      <td>-1.275144</td>\n",
       "      <td>52.468848</td>\n",
       "      <td>27.788401</td>\n",
       "      <td>2.859061</td>\n",
       "      <td>1.867958</td>\n",
       "      <td>1.302772</td>\n",
       "      <td>35.05617</td>\n",
       "      <td>0.803986</td>\n",
       "    </tr>\n",
       "    <tr>\n",
       "      <th>2014</th>\n",
       "      <td>-1.248528</td>\n",
       "      <td>52.449106</td>\n",
       "      <td>27.267665</td>\n",
       "      <td>2.861655</td>\n",
       "      <td>1.872606</td>\n",
       "      <td>1.305993</td>\n",
       "      <td>34.835012</td>\n",
       "      <td>0.805119</td>\n",
       "    </tr>\n",
       "  </tbody>\n",
       "</table>\n",
       "</div>"
      ],
      "text/plain": [
       "      Longitude   Latitude  Police_Force  Accident_Severity  \\\n",
       "Year                                                          \n",
       "2005  -1.426624  52.583475     28.142579           2.873107   \n",
       "2006  -1.423471  52.587279     28.498947           2.865824   \n",
       "2007  -1.432268  52.573971     28.651813           2.861707   \n",
       "2009  -1.387261  52.577015     28.016464           2.865105   \n",
       "2010  -1.348336  52.527694      27.64421           2.869607   \n",
       "2011  -1.317322  52.498867     27.761316           2.862094   \n",
       "2012   -1.34582  52.607394     23.091271            2.84935   \n",
       "2013  -1.275144  52.468848     27.788401           2.859061   \n",
       "2014  -1.248528  52.449106     27.267665           2.861655   \n",
       "\n",
       "      Number_of_Vehicles  Number_of_Casualties  Speed_limit  Police_Presense  \n",
       "Year                                                                          \n",
       "2005            1.888904              1.342221    36.044342         0.785886  \n",
       "2006             1.88932              1.342993     36.01838         0.789686  \n",
       "2007             1.88618              1.342186    36.009038         0.791621  \n",
       "2009            1.879365              1.338777    35.435757         0.789634  \n",
       "2010            1.872087              1.337255    35.322815         0.790919  \n",
       "2011            1.869595              1.326292    35.174699         0.797431  \n",
       "2012             1.86648               1.33126    34.701192         0.811717  \n",
       "2013            1.867958              1.302772     35.05617         0.803986  \n",
       "2014            1.872606              1.305993    34.835012         0.805119  "
      ]
     },
     "execution_count": 7,
     "metadata": {},
     "output_type": "execute_result"
    }
   ],
   "source": [
    "df.groupby('Year').mean()"
   ]
  },
  {
   "cell_type": "markdown",
   "id": "coordinate-comparison",
   "metadata": {},
   "source": [
    "#### Type of Road vs Number of casulties\n",
    "\n",
    "What type of road causes casulties in the accident? Is there a correlation between type of road and how many casulties?\n",
    "\n",
    "Exploring the results, it seems that the single carrigeway is a leader on the number of casulties by comparing to other types of road. This seems impressive, but what factors affect it, let's look into the time of the week and speed limit."
   ]
  },
  {
   "cell_type": "code",
   "execution_count": 8,
   "id": "representative-clock",
   "metadata": {},
   "outputs": [
    {
     "data": {
      "text/plain": [
       "<seaborn.axisgrid.FacetGrid at 0x7fcf9b72bac0>"
      ]
     },
     "execution_count": 8,
     "metadata": {},
     "output_type": "execute_result"
    },
    {
     "data": {
      "image/png": "[encoded data removed]",
      "text/plain": [
       "<Figure size 842.4x540 with 1 Axes>"
      ]
     },
     "metadata": {
      "needs_background": "light"
     },
     "output_type": "display_data"
    }
   ],
   "source": [
    "catplot = sns.catplot(data = df, y='Number_of_Casualties', x='Road_Type', height=7.5, aspect=11.7/7.5)\n",
    "\n",
    "plt.ylabel(\"Number of Casulties\")\n",
    "plt.xlabel(\"Type of Road\")\n",
    "catplot"
   ]
  },
  {
   "cell_type": "markdown",
   "id": "constitutional-seminar",
   "metadata": {},
   "source": [
    "### Time of Week and Type of Road"
   ]
  },
  {
   "cell_type": "markdown",
   "id": "invisible-shield",
   "metadata": {},
   "source": [
    "By observing the data from the plot, we notice that most accidents with severity happen on single carriage way road, which makes sense as there is not much space for vehicles, hence, making it the most dangerous road in UK to drive."
   ]
  },
  {
   "cell_type": "code",
   "execution_count": 9,
   "id": "outer-drawing",
   "metadata": {},
   "outputs": [
    {
     "data": {
      "text/plain": [
       "[Text(0, 0.5, 'Number of accidents'), Text(0.5, 1.0, 'Accidents by Road Type')]"
      ]
     },
     "execution_count": 9,
     "metadata": {},
     "output_type": "execute_result"
    },
    {
     "data": {
      "image/png": "[encoded data removed]",
      "text/plain": [
       "<Figure size 432x288 with 1 Axes>"
      ]
     },
     "metadata": {
      "needs_background": "light"
     },
     "output_type": "display_data"
    }
   ],
   "source": [
    "x = sns.countplot(x='Road_Type', data=df, hue='Accident_Severity')\n",
    "x.set(ylabel='Number of accidents', title='Accidents by Road Type')"
   ]
  },
  {
   "cell_type": "markdown",
   "id": "metric-convert",
   "metadata": {},
   "source": [
    "Observing the day of week, it semes that most of the data is distributed normally through the week, however, Saturday has the most number of accidents, meanwhile, Monday has lowest number of accidents comparing to other days."
   ]
  },
  {
   "cell_type": "code",
   "execution_count": 10,
   "id": "proud-third",
   "metadata": {},
   "outputs": [
    {
     "data": {
      "text/plain": [
       "[Text(0, 0.5, 'Number of accidents'),\n",
       " Text(0.5, 1.0, 'Accidents by day of week')]"
      ]
     },
     "execution_count": 10,
     "metadata": {},
     "output_type": "execute_result"
    },
    {
     "data": {
      "image/png": "[encoded data removed]",
      "text/plain": [
       "<Figure size 432x288 with 1 Axes>"
      ]
     },
     "metadata": {
      "needs_background": "light"
     },
     "output_type": "display_data"
    }
   ],
   "source": [
    "x = sns.countplot(x='Day_of_Week', data=df, hue='Accident_Severity')\n",
    "x.set(ylabel='Number of accidents', title='Accidents by day of week')"
   ]
  },
  {
   "cell_type": "markdown",
   "id": "marine-combination",
   "metadata": {},
   "source": [
    "### Vehicles involved in accident through years\n",
    "\n",
    "Through different year, the data may vary as different conditions affect the situation on roads, so it's necessary to check if the data through years was different.\n",
    "\n",
    "Looking at the scatterplot, seems that number of vechiles involved in accident doesn't change significantly, by looking to the previous tables with mean, the numbers are similar."
   ]
  },
  {
   "cell_type": "code",
   "execution_count": 11,
   "id": "innovative-entrepreneur",
   "metadata": {},
   "outputs": [
    {
     "data": {
      "text/plain": [
       "<AxesSubplot:xlabel='Year', ylabel='Number_of_Vehicles'>"
      ]
     },
     "execution_count": 11,
     "metadata": {},
     "output_type": "execute_result"
    },
    {
     "data": {
      "image/png": "[encoded data removed]",
      "text/plain": [
       "<Figure size 432x288 with 1 Axes>"
      ]
     },
     "metadata": {
      "needs_background": "light"
     },
     "output_type": "display_data"
    }
   ],
   "source": [
    "df.plot(kind='scatter', x='Year', y='Number_of_Vehicles')"
   ]
  },
  {
   "cell_type": "markdown",
   "id": "allied-sample",
   "metadata": {},
   "source": [
    "Looking on the surface conditions on the roads, it seems odd that most of the accidents happen on the dry road. I expected more accidents to happen on snowy or frost roads. However, this is probably normal as people tend to drive more careful in winter."
   ]
  },
  {
   "cell_type": "code",
   "execution_count": 12,
   "id": "african-victorian",
   "metadata": {},
   "outputs": [
    {
     "data": {
      "text/plain": [
       "<seaborn.axisgrid.FacetGrid at 0x7fcf8927bf40>"
      ]
     },
     "execution_count": 12,
     "metadata": {},
     "output_type": "execute_result"
    },
    {
     "data": {
      "image/png": "[encoded data removed]",
      "text/plain": [
       "<Figure size 842.4x540 with 1 Axes>"
      ]
     },
     "metadata": {
      "needs_background": "light"
     },
     "output_type": "display_data"
    }
   ],
   "source": [
    "catplot = sns.catplot(data = df, y='Number_of_Casualties', x='Road_Surface_Conditions', height=7.5, aspect=11.7/7.5)\n",
    "\n",
    "plt.ylabel(\"Number of Casulties\")\n",
    "plt.xlabel(\"Road Surface Conditions\")\n",
    "catplot"
   ]
  },
  {
   "cell_type": "markdown",
   "id": "average-combine",
   "metadata": {},
   "source": [
    "# ---- Conner's Milestone 3"
   ]
  },
  {
   "cell_type": "markdown",
   "id": "understanding-greenhouse",
   "metadata": {},
   "source": []
  },
  {
   "cell_type": "markdown",
   "id": "capital-kinase",
   "metadata": {},
   "source": [
    "# ---- Turner's Milestone 3"
   ]
  },
  {
   "cell_type": "code",
   "execution_count": null,
   "id": "unauthorized-harrison",
   "metadata": {},
   "outputs": [],
   "source": []
  }
 ],
 "metadata": {
  "kernelspec": {
   "display_name": "Python 3",
   "language": "python",
   "name": "python3"
  },
  "language_info": {
   "codemirror_mode": {
    "name": "ipython",
    "version": 3
   },
   "file_extension": ".py",
   "mimetype": "text/x-python",
   "name": "python",
   "nbconvert_exporter": "python",
   "pygments_lexer": "ipython3",
   "version": "3.8.5"
  }
 },
 "nbformat": 4,
 "nbformat_minor": 5
}
