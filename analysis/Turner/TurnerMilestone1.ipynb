{
 "metadata": {
  "language_info": {
   "codemirror_mode": {
    "name": "ipython",
    "version": 3
   },
   "file_extension": ".py",
   "mimetype": "text/x-python",
   "name": "python",
   "nbconvert_exporter": "python",
   "pygments_lexer": "ipython3",
   "version": "3.8.5-final"
  },
  "orig_nbformat": 2,
  "kernelspec": {
   "name": "python3",
   "display_name": "Python 3",
   "language": "python"
  }
 },
 "nbformat": 4,
 "nbformat_minor": 2,
 "cells": [
  {
   "cell_type": "code",
   "execution_count": 8,
   "metadata": {},
   "outputs": [
    {
     "output_type": "execute_result",
     "data": {
      "text/plain": [
       "  Accident_Index  Location_Easting_OSGR  Location_Northing_OSGR  Longitude  \\\n",
       "0  200501BS00001               525680.0                178240.0  -0.191170   \n",
       "1  200501BS00002               524170.0                181650.0  -0.211708   \n",
       "2  200501BS00003               524520.0                182240.0  -0.206458   \n",
       "3  200501BS00004               526900.0                177530.0  -0.173862   \n",
       "4  200501BS00005               528060.0                179040.0  -0.156618   \n",
       "\n",
       "    Latitude  Police_Force  Accident_Severity  Number_of_Vehicles  \\\n",
       "0  51.489096             1                  2                   1   \n",
       "1  51.520075             1                  3                   1   \n",
       "2  51.525301             1                  3                   2   \n",
       "3  51.482442             1                  3                   1   \n",
       "4  51.495752             1                  3                   1   \n",
       "\n",
       "   Number_of_Casualties        Date  ...  \\\n",
       "0                     1  04/01/2005  ...   \n",
       "1                     1  05/01/2005  ...   \n",
       "2                     1  06/01/2005  ...   \n",
       "3                     1  07/01/2005  ...   \n",
       "4                     1  10/01/2005  ...   \n",
       "\n",
       "       Pedestrian_Crossing-Physical_Facilities  \\\n",
       "0                               Zebra crossing   \n",
       "1  Pedestrian phase at traffic signal junction   \n",
       "2        No physical crossing within 50 meters   \n",
       "3        No physical crossing within 50 meters   \n",
       "4        No physical crossing within 50 meters   \n",
       "\n",
       "                          Light_Conditions          Weather_Conditions  \\\n",
       "0           Daylight: Street light present  Raining without high winds   \n",
       "1  Darkness: Street lights present and lit     Fine without high winds   \n",
       "2  Darkness: Street lights present and lit     Fine without high winds   \n",
       "3           Daylight: Street light present     Fine without high winds   \n",
       "4        Darkness: Street lighting unknown     Fine without high winds   \n",
       "\n",
       "  Road_Surface_Conditions  Special_Conditions_at_Site  Carriageway_Hazards  \\\n",
       "0                Wet/Damp                        None                 None   \n",
       "1                     Dry                        None                 None   \n",
       "2                     Dry                        None                 None   \n",
       "3                     Dry                        None                 None   \n",
       "4                Wet/Damp                        None                 None   \n",
       "\n",
       "  Urban_or_Rural_Area  Did_Police_Officer_Attend_Scene_of_Accident  \\\n",
       "0                   1                                          Yes   \n",
       "1                   1                                          Yes   \n",
       "2                   1                                          Yes   \n",
       "3                   1                                          Yes   \n",
       "4                   1                                          Yes   \n",
       "\n",
       "   LSOA_of_Accident_Location  Year  \n",
       "0                  E01002849  2005  \n",
       "1                  E01002909  2005  \n",
       "2                  E01002857  2005  \n",
       "3                  E01002840  2005  \n",
       "4                  E01002863  2005  \n",
       "\n",
       "[5 rows x 33 columns]"
      ],
      "text/html": "<div>\n<style scoped>\n    .dataframe tbody tr th:only-of-type {\n        vertical-align: middle;\n    }\n\n    .dataframe tbody tr th {\n        vertical-align: top;\n    }\n\n    .dataframe thead th {\n        text-align: right;\n    }\n</style>\n<table border=\"1\" class=\"dataframe\">\n  <thead>\n    <tr style=\"text-align: right;\">\n      <th></th>\n      <th>Accident_Index</th>\n      <th>Location_Easting_OSGR</th>\n      <th>Location_Northing_OSGR</th>\n      <th>Longitude</th>\n      <th>Latitude</th>\n      <th>Police_Force</th>\n      <th>Accident_Severity</th>\n      <th>Number_of_Vehicles</th>\n      <th>Number_of_Casualties</th>\n      <th>Date</th>\n      <th>...</th>\n      <th>Pedestrian_Crossing-Physical_Facilities</th>\n      <th>Light_Conditions</th>\n      <th>Weather_Conditions</th>\n      <th>Road_Surface_Conditions</th>\n      <th>Special_Conditions_at_Site</th>\n      <th>Carriageway_Hazards</th>\n      <th>Urban_or_Rural_Area</th>\n      <th>Did_Police_Officer_Attend_Scene_of_Accident</th>\n      <th>LSOA_of_Accident_Location</th>\n      <th>Year</th>\n    </tr>\n  </thead>\n  <tbody>\n    <tr>\n      <th>0</th>\n      <td>200501BS00001</td>\n      <td>525680.0</td>\n      <td>178240.0</td>\n      <td>-0.191170</td>\n      <td>51.489096</td>\n      <td>1</td>\n      <td>2</td>\n      <td>1</td>\n      <td>1</td>\n      <td>04/01/2005</td>\n      <td>...</td>\n      <td>Zebra crossing</td>\n      <td>Daylight: Street light present</td>\n      <td>Raining without high winds</td>\n      <td>Wet/Damp</td>\n      <td>None</td>\n      <td>None</td>\n      <td>1</td>\n      <td>Yes</td>\n      <td>E01002849</td>\n      <td>2005</td>\n    </tr>\n    <tr>\n      <th>1</th>\n      <td>200501BS00002</td>\n      <td>524170.0</td>\n      <td>181650.0</td>\n      <td>-0.211708</td>\n      <td>51.520075</td>\n      <td>1</td>\n      <td>3</td>\n      <td>1</td>\n      <td>1</td>\n      <td>05/01/2005</td>\n      <td>...</td>\n      <td>Pedestrian phase at traffic signal junction</td>\n      <td>Darkness: Street lights present and lit</td>\n      <td>Fine without high winds</td>\n      <td>Dry</td>\n      <td>None</td>\n      <td>None</td>\n      <td>1</td>\n      <td>Yes</td>\n      <td>E01002909</td>\n      <td>2005</td>\n    </tr>\n    <tr>\n      <th>2</th>\n      <td>200501BS00003</td>\n      <td>524520.0</td>\n      <td>182240.0</td>\n      <td>-0.206458</td>\n      <td>51.525301</td>\n      <td>1</td>\n      <td>3</td>\n      <td>2</td>\n      <td>1</td>\n      <td>06/01/2005</td>\n      <td>...</td>\n      <td>No physical crossing within 50 meters</td>\n      <td>Darkness: Street lights present and lit</td>\n      <td>Fine without high winds</td>\n      <td>Dry</td>\n      <td>None</td>\n      <td>None</td>\n      <td>1</td>\n      <td>Yes</td>\n      <td>E01002857</td>\n      <td>2005</td>\n    </tr>\n    <tr>\n      <th>3</th>\n      <td>200501BS00004</td>\n      <td>526900.0</td>\n      <td>177530.0</td>\n      <td>-0.173862</td>\n      <td>51.482442</td>\n      <td>1</td>\n      <td>3</td>\n      <td>1</td>\n      <td>1</td>\n      <td>07/01/2005</td>\n      <td>...</td>\n      <td>No physical crossing within 50 meters</td>\n      <td>Daylight: Street light present</td>\n      <td>Fine without high winds</td>\n      <td>Dry</td>\n      <td>None</td>\n      <td>None</td>\n      <td>1</td>\n      <td>Yes</td>\n      <td>E01002840</td>\n      <td>2005</td>\n    </tr>\n    <tr>\n      <th>4</th>\n      <td>200501BS00005</td>\n      <td>528060.0</td>\n      <td>179040.0</td>\n      <td>-0.156618</td>\n      <td>51.495752</td>\n      <td>1</td>\n      <td>3</td>\n      <td>1</td>\n      <td>1</td>\n      <td>10/01/2005</td>\n      <td>...</td>\n      <td>No physical crossing within 50 meters</td>\n      <td>Darkness: Street lighting unknown</td>\n      <td>Fine without high winds</td>\n      <td>Wet/Damp</td>\n      <td>None</td>\n      <td>None</td>\n      <td>1</td>\n      <td>Yes</td>\n      <td>E01002863</td>\n      <td>2005</td>\n    </tr>\n  </tbody>\n</table>\n<p>5 rows × 33 columns</p>\n</div>"
     },
     "metadata": {},
     "execution_count": 8
    }
   ],
   "source": [
    "# All data was downloaded by Dima. The process used the following code.\n",
    "import pandas as pd\n",
    "\n",
    "df = pd.read_csv(r\"../../data/raw/accidents_2005_to_2007_1.csv\")\n",
    "df.head()"
   ]
  },
  {
   "cell_type": "code",
   "execution_count": 9,
   "metadata": {},
   "outputs": [
    {
     "output_type": "execute_result",
     "data": {
      "text/plain": [
       "  Accident_Index  Location_Easting_OSGR  Location_Northing_OSGR  Longitude  \\\n",
       "0       2.01E+12               465780.0                103730.0  -1.067368   \n",
       "1       2.01E+12               433750.0                 87060.0  -1.523666   \n",
       "2       2.01E+12               436650.0                145380.0  -1.476765   \n",
       "3       2.01E+12               459340.0                 92110.0  -1.160672   \n",
       "4       2.01E+12               467420.0                110350.0  -1.042867   \n",
       "\n",
       "    Latitude  Police_Force  Accident_Severity  Number_of_Vehicles  \\\n",
       "0  50.829312            44                  3                   1   \n",
       "1  50.682156            44                  3                   2   \n",
       "2  51.206402            44                  3                   1   \n",
       "3  50.725522            44                  3                   1   \n",
       "4  50.888646            44                  3                   2   \n",
       "\n",
       "   Number_of_Casualties        Date  ...  \\\n",
       "0                     1  01/12/2005  ...   \n",
       "1                     1  01/12/2005  ...   \n",
       "2                     1  01/12/2005  ...   \n",
       "3                     1  01/12/2005  ...   \n",
       "4                     1  29/11/2005  ...   \n",
       "\n",
       "   Pedestrian_Crossing-Physical_Facilities                Light_Conditions  \\\n",
       "0    No physical crossing within 50 meters  Daylight: Street light present   \n",
       "1    No physical crossing within 50 meters  Daylight: Street light present   \n",
       "2                     Footbridge or subway  Daylight: Street light present   \n",
       "3    No physical crossing within 50 meters  Daylight: Street light present   \n",
       "4    No physical crossing within 50 meters  Daylight: Street light present   \n",
       "\n",
       "           Weather_Conditions Road_Surface_Conditions  \\\n",
       "0                       Other                Wet/Damp   \n",
       "1     Fine without high winds                     Dry   \n",
       "2  Raining without high winds                Wet/Damp   \n",
       "3     Raining with high winds                Wet/Damp   \n",
       "4     Fine without high winds                     Dry   \n",
       "\n",
       "   Special_Conditions_at_Site  Carriageway_Hazards Urban_or_Rural_Area  \\\n",
       "0                        None                 None                   1   \n",
       "1                        None                 None                   2   \n",
       "2                        None                 None                   1   \n",
       "3                        None                 None                   1   \n",
       "4                        None                 None                   1   \n",
       "\n",
       "   Did_Police_Officer_Attend_Scene_of_Accident  LSOA_of_Accident_Location  \\\n",
       "0                                           No                  E01017085   \n",
       "1                                          Yes                  E01017312   \n",
       "2                                          Yes                  E01023202   \n",
       "3                                          Yes                  E01017340   \n",
       "4                                           No                  E01022975   \n",
       "\n",
       "   Year  \n",
       "0  2005  \n",
       "1  2005  \n",
       "2  2005  \n",
       "3  2005  \n",
       "4  2005  \n",
       "\n",
       "[5 rows x 33 columns]"
      ],
      "text/html": "<div>\n<style scoped>\n    .dataframe tbody tr th:only-of-type {\n        vertical-align: middle;\n    }\n\n    .dataframe tbody tr th {\n        vertical-align: top;\n    }\n\n    .dataframe thead th {\n        text-align: right;\n    }\n</style>\n<table border=\"1\" class=\"dataframe\">\n  <thead>\n    <tr style=\"text-align: right;\">\n      <th></th>\n      <th>Accident_Index</th>\n      <th>Location_Easting_OSGR</th>\n      <th>Location_Northing_OSGR</th>\n      <th>Longitude</th>\n      <th>Latitude</th>\n      <th>Police_Force</th>\n      <th>Accident_Severity</th>\n      <th>Number_of_Vehicles</th>\n      <th>Number_of_Casualties</th>\n      <th>Date</th>\n      <th>...</th>\n      <th>Pedestrian_Crossing-Physical_Facilities</th>\n      <th>Light_Conditions</th>\n      <th>Weather_Conditions</th>\n      <th>Road_Surface_Conditions</th>\n      <th>Special_Conditions_at_Site</th>\n      <th>Carriageway_Hazards</th>\n      <th>Urban_or_Rural_Area</th>\n      <th>Did_Police_Officer_Attend_Scene_of_Accident</th>\n      <th>LSOA_of_Accident_Location</th>\n      <th>Year</th>\n    </tr>\n  </thead>\n  <tbody>\n    <tr>\n      <th>0</th>\n      <td>2.01E+12</td>\n      <td>465780.0</td>\n      <td>103730.0</td>\n      <td>-1.067368</td>\n      <td>50.829312</td>\n      <td>44</td>\n      <td>3</td>\n      <td>1</td>\n      <td>1</td>\n      <td>01/12/2005</td>\n      <td>...</td>\n      <td>No physical crossing within 50 meters</td>\n      <td>Daylight: Street light present</td>\n      <td>Other</td>\n      <td>Wet/Damp</td>\n      <td>None</td>\n      <td>None</td>\n      <td>1</td>\n      <td>No</td>\n      <td>E01017085</td>\n      <td>2005</td>\n    </tr>\n    <tr>\n      <th>1</th>\n      <td>2.01E+12</td>\n      <td>433750.0</td>\n      <td>87060.0</td>\n      <td>-1.523666</td>\n      <td>50.682156</td>\n      <td>44</td>\n      <td>3</td>\n      <td>2</td>\n      <td>1</td>\n      <td>01/12/2005</td>\n      <td>...</td>\n      <td>No physical crossing within 50 meters</td>\n      <td>Daylight: Street light present</td>\n      <td>Fine without high winds</td>\n      <td>Dry</td>\n      <td>None</td>\n      <td>None</td>\n      <td>2</td>\n      <td>Yes</td>\n      <td>E01017312</td>\n      <td>2005</td>\n    </tr>\n    <tr>\n      <th>2</th>\n      <td>2.01E+12</td>\n      <td>436650.0</td>\n      <td>145380.0</td>\n      <td>-1.476765</td>\n      <td>51.206402</td>\n      <td>44</td>\n      <td>3</td>\n      <td>1</td>\n      <td>1</td>\n      <td>01/12/2005</td>\n      <td>...</td>\n      <td>Footbridge or subway</td>\n      <td>Daylight: Street light present</td>\n      <td>Raining without high winds</td>\n      <td>Wet/Damp</td>\n      <td>None</td>\n      <td>None</td>\n      <td>1</td>\n      <td>Yes</td>\n      <td>E01023202</td>\n      <td>2005</td>\n    </tr>\n    <tr>\n      <th>3</th>\n      <td>2.01E+12</td>\n      <td>459340.0</td>\n      <td>92110.0</td>\n      <td>-1.160672</td>\n      <td>50.725522</td>\n      <td>44</td>\n      <td>3</td>\n      <td>1</td>\n      <td>1</td>\n      <td>01/12/2005</td>\n      <td>...</td>\n      <td>No physical crossing within 50 meters</td>\n      <td>Daylight: Street light present</td>\n      <td>Raining with high winds</td>\n      <td>Wet/Damp</td>\n      <td>None</td>\n      <td>None</td>\n      <td>1</td>\n      <td>Yes</td>\n      <td>E01017340</td>\n      <td>2005</td>\n    </tr>\n    <tr>\n      <th>4</th>\n      <td>2.01E+12</td>\n      <td>467420.0</td>\n      <td>110350.0</td>\n      <td>-1.042867</td>\n      <td>50.888646</td>\n      <td>44</td>\n      <td>3</td>\n      <td>2</td>\n      <td>1</td>\n      <td>29/11/2005</td>\n      <td>...</td>\n      <td>No physical crossing within 50 meters</td>\n      <td>Daylight: Street light present</td>\n      <td>Fine without high winds</td>\n      <td>Dry</td>\n      <td>None</td>\n      <td>None</td>\n      <td>1</td>\n      <td>No</td>\n      <td>E01022975</td>\n      <td>2005</td>\n    </tr>\n  </tbody>\n</table>\n<p>5 rows × 33 columns</p>\n</div>"
     },
     "metadata": {},
     "execution_count": 9
    }
   ],
   "source": [
    "#This process was done 12 times to upload the dataset as seen in Dima's Milestone1.ipynb file. Example for next step seen below\n",
    "\n",
    "dfTwo = pd.read_csv(r\"../../data/raw/accidents_2005_to_2007_1_2.csv\")\n",
    "dfTwo.head()"
   ]
  },
  {
   "cell_type": "code",
   "execution_count": null,
   "metadata": {},
   "outputs": [],
   "source": []
  }
 ]
}